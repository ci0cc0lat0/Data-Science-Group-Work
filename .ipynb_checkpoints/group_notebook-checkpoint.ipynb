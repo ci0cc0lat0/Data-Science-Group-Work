{
 "cells": [
  {
   "cell_type": "markdown",
   "id": "9fb37745",
   "metadata": {},
   "source": [
    "# Group Project"
   ]
  },
  {
   "cell_type": "code",
   "execution_count": 11,
   "id": "a699bfb2",
   "metadata": {},
   "outputs": [],
   "source": [
    "import pandas as pd\n",
    "import numpy as np\n",
    "import os\n",
    "import glob\n",
    "import numpy as np\n",
    "\n",
    "cwd_path = os.getcwd()\n",
    "usa_quake_path = cwd_path + \"\\\\earthquake_contiguous_usa_12batch\\\\\"\n",
    "eu_quake_path = cwd_path + \"\\\\Earthquake_2016_2018_all_eu\\\\\"\n",
    "\n",
    "us_csv = []\n",
    "eu_csv = []\n",
    "for us in glob.glob(usa_quake_path+\"*.csv\"):\n",
    "    us_csv.append(pd.read_csv(us))\n",
    "    \n",
    "for eu in glob.glob(eu_quake_path+\"*.csv\"):\n",
    "    eu_csv.append(pd.read_csv(eu))"
   ]
  },
  {
   "cell_type": "code",
   "execution_count": 20,
   "id": "2a1a9484",
   "metadata": {},
   "outputs": [
    {
     "name": "stdout",
     "output_type": "stream",
     "text": [
      "(90, 5)\n",
      "(31, 5)\n",
      "(22, 5)\n",
      "(44, 5)\n",
      "(31, 5)\n",
      "(33, 5)\n",
      "(20, 5)\n",
      "(31, 5)\n",
      "(19, 5)\n",
      "(17, 5)\n",
      "(45, 5)\n",
      "(32, 5)\n",
      "(21, 5)\n",
      "(26, 5)\n",
      "(20, 5)\n",
      "(36, 5)\n",
      "(33, 5)\n",
      "(23, 5)\n",
      "(25, 5)\n",
      "(33, 5)\n",
      "(30, 5)\n",
      "(60, 5)\n",
      "(35, 5)\n",
      "(27, 5)\n",
      "(127, 5)\n",
      "(108, 5)\n",
      "(31, 5)\n",
      "(28, 5)\n",
      "(28, 5)\n",
      "(15, 5)\n",
      "(35, 5)\n",
      "(27, 5)\n",
      "(21, 5)\n",
      "(34, 5)\n",
      "(35, 5)\n",
      "(28, 5)\n"
     ]
    }
   ],
   "source": [
    "for x in us_csv:\n",
    "    print(x.shape)"
   ]
  }
 ],
 "metadata": {
  "kernelspec": {
   "display_name": "Python 3 (ipykernel)",
   "language": "python",
   "name": "python3"
  },
  "language_info": {
   "codemirror_mode": {
    "name": "ipython",
    "version": 3
   },
   "file_extension": ".py",
   "mimetype": "text/x-python",
   "name": "python",
   "nbconvert_exporter": "python",
   "pygments_lexer": "ipython3",
   "version": "3.9.12"
  }
 },
 "nbformat": 4,
 "nbformat_minor": 5
}

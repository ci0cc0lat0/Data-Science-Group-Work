{
 "cells": [
  {
   "cell_type": "markdown",
   "id": "9fb37745",
   "metadata": {},
   "source": [
    "# Group Project"
   ]
  },
  {
   "cell_type": "code",
   "execution_count": 11,
   "id": "cda1ab68",
   "metadata": {},
   "outputs": [],
   "source": [
    "import pandas as pd\n",
    "import numpy as np\n",
    "import os\n",
    "import glob\n",
    "import numpy as np\n",
    "\n",
    "cwd_path = os.getcwd()\n",
    "usa_quake_path = cwd_path + \"\\\\earthquake_contiguous_usa_12batch\\\\\"\n",
    "eu_quake_path = cwd_path + \"\\\\Earthquake_2016_2018_all_eu\\\\\"\n"
   ]
  },
  {
   "cell_type": "markdown",
   "id": "a25742cd",
   "metadata": {},
   "source": []
  },
  {
   "cell_type": "code",
   "execution_count": 46,
   "id": "85e19b65",
   "metadata": {
    "scrolled": true
   },
   "outputs": [
    {
     "name": "stdout",
     "output_type": "stream",
     "text": [
      " 0 Earthquake_2020_11_2020_12_filtered.csv\n",
      " 1 Earthquake_2020_9_2020_10_filtered.csv\n",
      " 2 Earthquake_2021_11_2021_12_filtered.csv\n",
      " 3 Earthquake_2021_1_2021_2_filtered.csv\n",
      " 4 Earthquake_2021_3_2021_4_filtered.csv\n",
      " 5 Earthquake_2021_5_2021_6_filtered.csv\n",
      " 6 Earthquake_2021_7_2021_8_filtered.csv\n",
      " 7 Earthquake_2021_9_2021_10_filtered.csv\n",
      " 8 Earthquake_2022_1_2022_2_filtered.csv\n",
      " 9 Earthquake_2022_3_2022_4_filtered.csv\n",
      "10 Earthquake_2022_5_2022_6_filtered.csv\n",
      "11 Earthquake_2022_7_2022_8_filtered.csv\n",
      "\n",
      " 0 Earthquake_2016_10_filtered_eu.csv\n",
      " 1 Earthquake_2016_11_filtered_eu.csv\n",
      " 2 Earthquake_2016_12_filtered_eu.csv\n",
      " 3 Earthquake_2016_1_filtered_eu.csv\n",
      " 4 Earthquake_2016_2_filtered_eu.csv\n",
      " 5 Earthquake_2016_3_filtered_eu.csv\n",
      " 6 Earthquake_2016_4_filtered_eu.csv\n",
      " 7 Earthquake_2016_5_filtered_eu.csv\n",
      " 8 Earthquake_2016_6_filtered_eu.csv\n",
      " 9 Earthquake_2016_7_filtered_eu.csv\n",
      "10 Earthquake_2016_8_filtered_eu.csv\n",
      "11 Earthquake_2016_9_filtered_eu.csv\n",
      "12 Earthquake_2017_10_filtered_eu.csv\n",
      "13 Earthquake_2017_11_filtered_eu.csv\n",
      "14 Earthquake_2017_12_filtered_eu.csv\n",
      "15 Earthquake_2017_1_filtered_eu.csv\n",
      "16 Earthquake_2017_2_filtered_eu.csv\n",
      "17 Earthquake_2017_3_filtered_eu.csv\n",
      "18 Earthquake_2017_4_filtered_eu.csv\n",
      "19 Earthquake_2017_5_filtered_eu.csv\n",
      "20 Earthquake_2017_6_filtered_eu.csv\n",
      "21 Earthquake_2017_7_filtered_eu.csv\n",
      "22 Earthquake_2017_8_filtered_eu.csv\n",
      "23 Earthquake_2017_9_filtered_eu.csv\n",
      "24 Earthquake_2018_10_filtered_eu.csv\n",
      "25 Earthquake_2018_11_filtered_eu.csv\n",
      "26 Earthquake_2018_12_filtered_eu.csv\n",
      "27 Earthquake_2018_1_filtered_eu.csv\n",
      "28 Earthquake_2018_2_filtered_eu.csv\n",
      "29 Earthquake_2018_3_filtered_eu.csv\n",
      "30 Earthquake_2018_4_filtered_eu.csv\n",
      "31 Earthquake_2018_5_filtered_eu.csv\n",
      "32 Earthquake_2018_6_filtered_eu.csv\n",
      "33 Earthquake_2018_7_filtered_eu.csv\n",
      "34 Earthquake_2018_8_filtered_eu.csv\n",
      "35 Earthquake_2018_9_filtered_eu.csv\n"
     ]
    }
   ],
   "source": [
    "# Used to enumerate the files in each directory.\n",
    "# Useful for finding a sepcific file's index for the us_csv[] and eu_csv[] arrays/list\n",
    "\n",
    "for x, us in enumerate(glob.glob(usa_quake_path+\"*.csv\")):\n",
    "    print(\"%2i %s\" % (x,os.path.basename(us)))\n",
    "print()\n",
    "for x, eu in enumerate(glob.glob(eu_quake_path+\"*.csv\")):\n",
    "    print(\"%2i %s\" % (x,os.path.basename(eu)))"
   ]
  },
  {
   "cell_type": "code",
   "execution_count": 21,
   "id": "7d036bac",
   "metadata": {},
   "outputs": [],
   "source": [
    "# CSVs are appended to an array/list as DataFames.\n",
    "# Done for both US and EU data\n",
    "us_csv = []\n",
    "eu_csv = []\n",
    "for us in glob.glob(usa_quake_path+\"*.csv\"):\n",
    "    us_csv.append(pd.read_csv(us))\n",
    "    \n",
    "for eu in glob.glob(eu_quake_path+\"*.csv\"):\n",
    "    eu_csv.append(pd.read_csv(eu))"
   ]
  },
  {
   "cell_type": "code",
   "execution_count": null,
   "id": "6383d420",
   "metadata": {},
   "outputs": [],
   "source": []
  }
 ],
 "metadata": {
  "kernelspec": {
   "display_name": "Python 3 (ipykernel)",
   "language": "python",
   "name": "python3"
  },
  "language_info": {
   "codemirror_mode": {
    "name": "ipython",
    "version": 3
   },
   "file_extension": ".py",
   "mimetype": "text/x-python",
   "name": "python",
   "nbconvert_exporter": "python",
   "pygments_lexer": "ipython3",
   "version": "3.9.12"
  }
 },
 "nbformat": 4,
 "nbformat_minor": 5
}
